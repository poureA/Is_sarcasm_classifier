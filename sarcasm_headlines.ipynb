{
 "cells": [
  {
   "cell_type": "code",
   "execution_count": 438,
   "id": "52df2fd9",
   "metadata": {},
   "outputs": [],
   "source": [
    "import pandas as pd "
   ]
  },
  {
   "cell_type": "code",
   "execution_count": 439,
   "id": "dd6f498d",
   "metadata": {},
   "outputs": [
    {
     "data": {
      "text/html": [
       "<div>\n",
       "<style scoped>\n",
       "    .dataframe tbody tr th:only-of-type {\n",
       "        vertical-align: middle;\n",
       "    }\n",
       "\n",
       "    .dataframe tbody tr th {\n",
       "        vertical-align: top;\n",
       "    }\n",
       "\n",
       "    .dataframe thead th {\n",
       "        text-align: right;\n",
       "    }\n",
       "</style>\n",
       "<table border=\"1\" class=\"dataframe\">\n",
       "  <thead>\n",
       "    <tr style=\"text-align: right;\">\n",
       "      <th></th>\n",
       "      <th>is_sarcastic</th>\n",
       "      <th>headline</th>\n",
       "      <th>article_link</th>\n",
       "    </tr>\n",
       "  </thead>\n",
       "  <tbody>\n",
       "    <tr>\n",
       "      <th>14505</th>\n",
       "      <td>1</td>\n",
       "      <td>authorities not even going to bother looking f...</td>\n",
       "      <td>https://www.theonion.com/authorities-not-even-...</td>\n",
       "    </tr>\n",
       "    <tr>\n",
       "      <th>26727</th>\n",
       "      <td>0</td>\n",
       "      <td>a commodore computer from the 1980s is still h...</td>\n",
       "      <td>https://www.huffingtonpost.com/entry/grand-rap...</td>\n",
       "    </tr>\n",
       "    <tr>\n",
       "      <th>1413</th>\n",
       "      <td>0</td>\n",
       "      <td>barack obama makes last-minute push to block s...</td>\n",
       "      <td>https://www.huffingtonpost.com/entry/barack-ob...</td>\n",
       "    </tr>\n",
       "    <tr>\n",
       "      <th>12742</th>\n",
       "      <td>1</td>\n",
       "      <td>nra spokesman: a hebrew?</td>\n",
       "      <td>https://www.theonion.com/nra-spokesman-a-hebre...</td>\n",
       "    </tr>\n",
       "    <tr>\n",
       "      <th>12246</th>\n",
       "      <td>1</td>\n",
       "      <td>area woman has more than 200 products to help ...</td>\n",
       "      <td>https://local.theonion.com/area-woman-has-more...</td>\n",
       "    </tr>\n",
       "    <tr>\n",
       "      <th>4928</th>\n",
       "      <td>0</td>\n",
       "      <td>here's what it's like to be somebody who hates...</td>\n",
       "      <td>https://www.huffingtonpost.com/entry/the-disgu...</td>\n",
       "    </tr>\n",
       "    <tr>\n",
       "      <th>17511</th>\n",
       "      <td>1</td>\n",
       "      <td>climatologists say humanity's best hope is hur...</td>\n",
       "      <td>https://www.theonion.com/climatologists-say-hu...</td>\n",
       "    </tr>\n",
       "    <tr>\n",
       "      <th>27733</th>\n",
       "      <td>1</td>\n",
       "      <td>woman launches into 4-minute self-deprecating ...</td>\n",
       "      <td>https://local.theonion.com/woman-launches-into...</td>\n",
       "    </tr>\n",
       "    <tr>\n",
       "      <th>24365</th>\n",
       "      <td>0</td>\n",
       "      <td>trump uses major policy speech to threaten to ...</td>\n",
       "      <td>https://www.huffingtonpost.com/entry/donald-tr...</td>\n",
       "    </tr>\n",
       "    <tr>\n",
       "      <th>15410</th>\n",
       "      <td>0</td>\n",
       "      <td>california's brutal drought could change the s...</td>\n",
       "      <td>https://www.huffingtonpost.com/entry/californi...</td>\n",
       "    </tr>\n",
       "  </tbody>\n",
       "</table>\n",
       "</div>"
      ],
      "text/plain": [
       "       is_sarcastic                                           headline  \\\n",
       "14505             1  authorities not even going to bother looking f...   \n",
       "26727             0  a commodore computer from the 1980s is still h...   \n",
       "1413              0  barack obama makes last-minute push to block s...   \n",
       "12742             1                           nra spokesman: a hebrew?   \n",
       "12246             1  area woman has more than 200 products to help ...   \n",
       "4928              0  here's what it's like to be somebody who hates...   \n",
       "17511             1  climatologists say humanity's best hope is hur...   \n",
       "27733             1  woman launches into 4-minute self-deprecating ...   \n",
       "24365             0  trump uses major policy speech to threaten to ...   \n",
       "15410             0  california's brutal drought could change the s...   \n",
       "\n",
       "                                            article_link  \n",
       "14505  https://www.theonion.com/authorities-not-even-...  \n",
       "26727  https://www.huffingtonpost.com/entry/grand-rap...  \n",
       "1413   https://www.huffingtonpost.com/entry/barack-ob...  \n",
       "12742  https://www.theonion.com/nra-spokesman-a-hebre...  \n",
       "12246  https://local.theonion.com/area-woman-has-more...  \n",
       "4928   https://www.huffingtonpost.com/entry/the-disgu...  \n",
       "17511  https://www.theonion.com/climatologists-say-hu...  \n",
       "27733  https://local.theonion.com/woman-launches-into...  \n",
       "24365  https://www.huffingtonpost.com/entry/donald-tr...  \n",
       "15410  https://www.huffingtonpost.com/entry/californi...  "
      ]
     },
     "execution_count": 439,
     "metadata": {},
     "output_type": "execute_result"
    }
   ],
   "source": [
    "#Reading csv files and making copy of them\n",
    "file = pd.read_json(\"D:\\\\datasets\\\\sarcasm_headlines\\\\Sarcasm_Headlines_Dataset_v2.json\",lines=True)\n",
    "df = file.copy()\n",
    "#Getting some random rows from dataset\n",
    "df.sample(10)"
   ]
  },
  {
   "cell_type": "code",
   "execution_count": 441,
   "id": "014d049e",
   "metadata": {},
   "outputs": [],
   "source": [
    "df = df.drop(['article_link'],axis=1)"
   ]
  },
  {
   "cell_type": "code",
   "execution_count": 442,
   "id": "0c59b9e3",
   "metadata": {},
   "outputs": [
    {
     "data": {
      "text/plain": [
       "0    14985\n",
       "1    13634\n",
       "Name: is_sarcastic, dtype: int64"
      ]
     },
     "execution_count": 442,
     "metadata": {},
     "output_type": "execute_result"
    }
   ],
   "source": [
    "df.is_sarcastic.value_counts(ascending=False)"
   ]
  },
  {
   "cell_type": "code",
   "execution_count": 443,
   "id": "98f373e6",
   "metadata": {},
   "outputs": [
    {
     "name": "stdout",
     "output_type": "stream",
     "text": [
      "<class 'pandas.core.frame.DataFrame'>\n",
      "RangeIndex: 28619 entries, 0 to 28618\n",
      "Data columns (total 2 columns):\n",
      " #   Column        Non-Null Count  Dtype \n",
      "---  ------        --------------  ----- \n",
      " 0   is_sarcastic  28619 non-null  int64 \n",
      " 1   headline      28619 non-null  object\n",
      "dtypes: int64(1), object(1)\n",
      "memory usage: 447.3+ KB\n"
     ]
    }
   ],
   "source": [
    "#Getting inforamation of dataset\n",
    "df.info()"
   ]
  },
  {
   "cell_type": "code",
   "execution_count": 444,
   "id": "b85711a4",
   "metadata": {},
   "outputs": [],
   "source": [
    "#Extracting features\n",
    "features = [text.lstrip() for text in df['headline'].to_numpy()]"
   ]
  },
  {
   "cell_type": "code",
   "execution_count": 445,
   "id": "173f2dbf",
   "metadata": {},
   "outputs": [
    {
     "data": {
      "text/plain": [
       "['thirtysomething scientists unveil doomsday clock of hair loss',\n",
       " 'dem rep. totally nails why congress is falling short on gender, racial equality',\n",
       " 'eat your veggies: 9 deliciously different recipes',\n",
       " 'inclement weather prevents liar from getting to work',\n",
       " \"mother comes pretty close to using word 'streaming' correctly\",\n",
       " 'my white inheritance',\n",
       " '5 ways to file your taxes with less stress',\n",
       " \"richard branson's global-warming donation nearly as much as cost of failed balloon trips\",\n",
       " 'shadow government getting too large to meet in marriott conference room b',\n",
       " 'lots of parents know this scenario',\n",
       " 'this lesbian is considered a father in indiana (and an amazing one at that)']"
      ]
     },
     "execution_count": 445,
     "metadata": {},
     "output_type": "execute_result"
    }
   ],
   "source": [
    "features[:11]"
   ]
  },
  {
   "cell_type": "code",
   "execution_count": 446,
   "id": "27b4cd79",
   "metadata": {},
   "outputs": [],
   "source": [
    "#Importing needed modules . \n",
    "from tensorflow.keras.preprocessing.text import Tokenizer\n",
    "from tensorflow.keras.preprocessing.sequence import pad_sequences\n",
    "tokenizer = Tokenizer(oov_token='<00U00>')"
   ]
  },
  {
   "cell_type": "code",
   "execution_count": 447,
   "id": "fae855ee",
   "metadata": {},
   "outputs": [],
   "source": [
    "#Tokenizing texts\n",
    "tokenizer.fit_on_texts(features)\n",
    "#Converting them to sequneces\n",
    "sequences = tokenizer.texts_to_sequences(features)"
   ]
  },
  {
   "cell_type": "code",
   "execution_count": 448,
   "id": "97171745",
   "metadata": {},
   "outputs": [
    {
     "name": "stdout",
     "output_type": "stream",
     "text": [
      "15\n"
     ]
    }
   ],
   "source": [
    "#Converting them to sequneces\n",
    "matrix = pad_sequences(sequences,padding='post',truncating='post',maxlen=15)\n",
    "#Finding longest sentence .\n",
    "lengths = list()\n",
    "for i in matrix :\n",
    "    lengths.append(len(i))\n",
    "print(max(lengths))"
   ]
  },
  {
   "cell_type": "code",
   "execution_count": 449,
   "id": "f60d9ef9",
   "metadata": {},
   "outputs": [],
   "source": [
    "#Splitting train and valodation data .\n",
    "idx = (85*len(matrix))//100\n",
    "train = matrix[:idx]\n",
    "train_label = df['is_sarcastic'].to_numpy().reshape(-1,1)[:idx]\n",
    "valid = matrix[idx:]\n",
    "valid_label = df['is_sarcastic'].to_numpy().reshape(-1,1)[idx:]"
   ]
  },
  {
   "cell_type": "code",
   "execution_count": 450,
   "id": "f6d78093",
   "metadata": {},
   "outputs": [
    {
     "name": "stdout",
     "output_type": "stream",
     "text": [
      "(24326, 15)\n",
      "(24326, 1)\n",
      "(4293, 15)\n",
      "(4293, 1)\n"
     ]
    }
   ],
   "source": [
    "print(train.shape)\n",
    "print(train_label.shape)\n",
    "print(valid.shape)\n",
    "print(valid_label.shape)"
   ]
  },
  {
   "cell_type": "code",
   "execution_count": 451,
   "id": "5e30ed07",
   "metadata": {},
   "outputs": [
    {
     "name": "stdout",
     "output_type": "stream",
     "text": [
      "Model has built\n"
     ]
    }
   ],
   "source": [
    "#Building our model by a function .\n",
    "from tensorflow.keras import layers , models\n",
    "from tensorflow.keras.optimizers import Adam\n",
    "def Create_model()->None :\n",
    "    '''function docstring'''\n",
    "    model = models.Sequential([layers.Embedding(len(tokenizer.word_index)+1,16,input_length=15)\n",
    "                               ,layers.Flatten()\n",
    "                               ,layers.Dense(6,activation='relu')\n",
    "                               ,layers.Dropout(0.2)\n",
    "                              ,layers.Dense(1,activation='sigmoid')])\n",
    "    model.compile(optimizer=Adam(learning_rate=0.001),loss='binary_crossentropy',metrics=['accuracy'])\n",
    "    return model\n",
    "print('Model has built')"
   ]
  },
  {
   "cell_type": "code",
   "execution_count": 452,
   "id": "adaecff4",
   "metadata": {},
   "outputs": [
    {
     "name": "stdout",
     "output_type": "stream",
     "text": [
      "Epoch 1/2\n",
      "761/761 [==============================] - 10s 13ms/step - loss: 0.4712 - accuracy: 0.7751 - val_loss: 0.3125 - val_accuracy: 0.8668\n",
      "Epoch 2/2\n",
      "761/761 [==============================] - 9s 12ms/step - loss: 0.1959 - accuracy: 0.9283 - val_loss: 0.2970 - val_accuracy: 0.8719\n"
     ]
    }
   ],
   "source": [
    "#Training datas with 2 epoch .\n",
    "history = Create_model().fit(train,train_label,epochs=2,validation_data=(valid,valid_label))"
   ]
  },
  {
   "cell_type": "code",
   "execution_count": null,
   "id": "a90a1a86",
   "metadata": {},
   "outputs": [],
   "source": []
  }
 ],
 "metadata": {
  "kernelspec": {
   "display_name": "Python 3 (ipykernel)",
   "language": "python",
   "name": "python3"
  },
  "language_info": {
   "codemirror_mode": {
    "name": "ipython",
    "version": 3
   },
   "file_extension": ".py",
   "mimetype": "text/x-python",
   "name": "python",
   "nbconvert_exporter": "python",
   "pygments_lexer": "ipython3",
   "version": "3.9.13"
  }
 },
 "nbformat": 4,
 "nbformat_minor": 5
}
